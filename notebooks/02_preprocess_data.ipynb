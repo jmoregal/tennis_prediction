{
 "cells": [
  {
   "cell_type": "code",
   "execution_count": 1,
   "id": "73044da0",
   "metadata": {},
   "outputs": [],
   "source": [
    "import pandas as pd\n",
    "import numpy as np\n",
    "import matplotlib.pyplot as plt\n",
    "\n",
    "import sys\n",
    "sys.path.append('../src')\n",
    "from preprocessing import preprocess"
   ]
  },
  {
   "cell_type": "code",
   "execution_count": 2,
   "id": "8972c913",
   "metadata": {},
   "outputs": [
    {
     "name": "stdout",
     "output_type": "stream",
     "text": [
      "                           Tournament        Date         Series    Court  \\\n",
      "0  Australian Hardcourt Championships  2000-01-03  International  Outdoor   \n",
      "1                          Qatar Open  2000-01-03  International  Outdoor   \n",
      "2                          Qatar Open  2000-01-03  International  Outdoor   \n",
      "3                          Qatar Open  2000-01-03  International  Outdoor   \n",
      "4                          Qatar Open  2000-01-03  International  Outdoor   \n",
      "\n",
      "  Surface      Round  Best of       Player_1        Player_2          Winner  \\\n",
      "0    Hard  1st Round        3     Dosedel S.     Ljubicic I.      Dosedel S.   \n",
      "1    Hard  1st Round        3  El Aynaoui Y.       Dupuis A.   El Aynaoui Y.   \n",
      "2    Hard  1st Round        3       Arazi H.    Cherkasov A.    Cherkasov A.   \n",
      "3    Hard  1st Round        3     Caratti C.    Heuberger I.      Caratti C.   \n",
      "4    Hard  1st Round        3  Al-Alawi S.K.  Berasategui A.  Berasategui A.   \n",
      "\n",
      "   ...        Score  Surface_encoded  rank_diff  h2h_A_wins  h2h_B_wins  \\\n",
      "0  ...      6-4 6-2                0        -14           0           0   \n",
      "1  ...  4-6 6-3 6-2                0        -45           0           0   \n",
      "2  ...      2-6 4-6                0       -171           0           0   \n",
      "3  ...  7-6 4-6 6-4                0         -8           0           0   \n",
      "4  ...      3-6 4-6                0        -61           0           0   \n",
      "\n",
      "   A_Surface_winrate B_Surface_winrate  streak_1  streak_2  target  \n",
      "0                0.0               0.0         0         0       1  \n",
      "1                0.0               0.0         0         0       1  \n",
      "2                0.0               0.0         0         0       0  \n",
      "3                0.0               0.0         0         0       1  \n",
      "4                0.0               0.0         0         0       0  \n",
      "\n",
      "[5 rows x 26 columns]\n"
     ]
    }
   ],
   "source": [
    "df = preprocess(\"../data/raw/atp_tennis.csv\")\n",
    "\n",
    "print(df.head())"
   ]
  },
  {
   "cell_type": "code",
   "execution_count": null,
   "id": "7af73844",
   "metadata": {},
   "outputs": [],
   "source": []
  }
 ],
 "metadata": {
  "kernelspec": {
   "display_name": ".venv (3.12.11)",
   "language": "python",
   "name": "python3"
  },
  "language_info": {
   "codemirror_mode": {
    "name": "ipython",
    "version": 3
   },
   "file_extension": ".py",
   "mimetype": "text/x-python",
   "name": "python",
   "nbconvert_exporter": "python",
   "pygments_lexer": "ipython3",
   "version": "3.12.11"
  }
 },
 "nbformat": 4,
 "nbformat_minor": 5
}
