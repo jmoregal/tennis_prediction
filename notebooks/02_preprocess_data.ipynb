{
 "cells": [
  {
   "cell_type": "code",
   "execution_count": 1,
   "id": "73044da0",
   "metadata": {},
   "outputs": [],
   "source": [
    "import pandas as pd\n",
    "import numpy as np\n",
    "import matplotlib.pyplot as plt\n",
    "\n",
    "import sys\n",
    "sys.path.append('../src')\n",
    "from preprocessing import final_preprocessing"
   ]
  },
  {
   "cell_type": "code",
   "execution_count": 2,
   "id": "8972c913",
   "metadata": {},
   "outputs": [
    {
     "name": "stdout",
     "output_type": "stream",
     "text": [
      "                           Tournament       Date         Series    Court  \\\n",
      "0  Australian Hardcourt Championships 2000-01-03  International  Outdoor   \n",
      "1  Australian Hardcourt Championships 2000-01-03  International  Outdoor   \n",
      "2  Australian Hardcourt Championships 2000-01-03  International  Outdoor   \n",
      "3  Australian Hardcourt Championships 2000-01-03  International  Outdoor   \n",
      "4  Australian Hardcourt Championships 2000-01-03  International  Outdoor   \n",
      "\n",
      "   Surface      Round  Best of        Player_1       Player_2       Winner  \\\n",
      "0        0  1st Round        3      Dosedel S.    Ljubicic I.   Dosedel S.   \n",
      "1        0  1st Round        3      Clement A.     Enqvist T.   Enqvist T.   \n",
      "2        0  1st Round        3       Escude N.  Baccanello P.    Escude N.   \n",
      "3        0  1st Round        3  Knippschild J.     Federer R.   Federer R.   \n",
      "4        0  1st Round        3     Fromberg R.  Woodbridge T.  Fromberg R.   \n",
      "\n",
      "   ...  Odd_2        Score  Winner_Rank  Loser_Rank  Rank_Diff  \\\n",
      "0  ...   -1.0      6-4 6-2           63          77         14   \n",
      "1  ...   -1.0      3-6 3-6            5          56         51   \n",
      "2  ...   -1.0  6-7 7-5 6-3           40         655        615   \n",
      "3  ...   -1.0      1-6 4-6           65          87         22   \n",
      "4  ...   -1.0  7-6 5-7 6-4           81         198        117   \n",
      "\n",
      "   Lower_Rank_Won h2h_Wins_Player_1  h2h_Wins_Player_2  A_surface_winrate  \\\n",
      "0               0                 0                  0                0.0   \n",
      "1               0                 0                  0                0.0   \n",
      "2               0                 0                  0                0.0   \n",
      "3               0                 0                  0                0.0   \n",
      "4               0                 0                  0                0.0   \n",
      "\n",
      "   B_surface_winrate  \n",
      "0                0.0  \n",
      "1                0.0  \n",
      "2                0.0  \n",
      "3                0.0  \n",
      "4                0.0  \n",
      "\n",
      "[5 rows x 25 columns]\n"
     ]
    }
   ],
   "source": [
    "df = final_preprocessing(\"../data/raw/atp_tennis.csv\")\n",
    "\n",
    "print(df.head())"
   ]
  },
  {
   "cell_type": "code",
   "execution_count": null,
   "id": "7af73844",
   "metadata": {},
   "outputs": [],
   "source": []
  }
 ],
 "metadata": {
  "kernelspec": {
   "display_name": ".venv (3.12.11)",
   "language": "python",
   "name": "python3"
  },
  "language_info": {
   "codemirror_mode": {
    "name": "ipython",
    "version": 3
   },
   "file_extension": ".py",
   "mimetype": "text/x-python",
   "name": "python",
   "nbconvert_exporter": "python",
   "pygments_lexer": "ipython3",
   "version": "3.12.11"
  }
 },
 "nbformat": 4,
 "nbformat_minor": 5
}
